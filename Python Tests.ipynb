{
  "nbformat": 4,
  "nbformat_minor": 0,
  "metadata": {
    "colab": {
      "provenance": [],
      "collapsed_sections": [
        "YnPuXR9xQqrO",
        "dAxq2aUwQ8C9",
        "G40wVl1DRCYM",
        "0ox-RUWlROnk",
        "XVTp-1zFRWR3",
        "qJK1jybQRcem",
        "CDc_dsMvRxYw",
        "9NQ-0xd7R6m1",
        "XY9gMs2HST2y",
        "aPsAkpkvSdEZ",
        "DU7-WA8wSi1s",
        "bv6P_FG4Sn3Z",
        "NQYBGmBWEnd3"
      ]
    },
    "kernelspec": {
      "name": "python3",
      "display_name": "Python 3"
    },
    "language_info": {
      "name": "python"
    }
  },
  "cells": [
    {
      "cell_type": "markdown",
      "source": [
        "# Test 1"
      ],
      "metadata": {
        "id": "YnPuXR9xQqrO"
      }
    },
    {
      "cell_type": "code",
      "execution_count": null,
      "metadata": {
        "id": "Paz7sw526qxR",
        "outputId": "138faec0-043b-4076-d810-661031a2d3e6",
        "colab": {
          "base_uri": "https://localhost:8080/"
        }
      },
      "outputs": [
        {
          "output_type": "stream",
          "name": "stdout",
          "text": [
            "Enter your first name: Abdul\n",
            "Enter your last name: Subhan\n",
            "Enter your age: 17\n",
            "My name is Abdul Subhan. I am 17 years old.\n",
            "My name is Abdul Subhan. I am 17 years old.\n"
          ]
        }
      ],
      "source": [
        "first_name = input(\"Enter your first name: \")\n",
        "last_name = input(\"Enter your last name: \")\n",
        "age = input(\"Enter your age: \")\n",
        "\n",
        "print(f'''My name is {first_name} {last_name}. I am {age} years old.''')\n",
        "print(\"My name is \" + first_name + \" \" + last_name + \". I am \" + age + \" years old.\")"
      ]
    },
    {
      "cell_type": "code",
      "source": [
        "var_1 = \"Hello\"\n",
        "var_2 = 50\n",
        "var_3 = 7.89\n",
        "print(type(var_1))\n",
        "print(type(var_2))\n",
        "print(type(var_3))"
      ],
      "metadata": {
        "colab": {
          "base_uri": "https://localhost:8080/"
        },
        "id": "nD9ATWQ_Qv_k",
        "outputId": "eea511b8-1877-40a9-8be6-0f561a46c5af"
      },
      "execution_count": null,
      "outputs": [
        {
          "output_type": "stream",
          "name": "stdout",
          "text": [
            "<class 'str'>\n",
            "<class 'int'>\n",
            "<class 'float'>\n"
          ]
        }
      ]
    },
    {
      "cell_type": "markdown",
      "source": [
        "# Test 2"
      ],
      "metadata": {
        "id": "dAxq2aUwQ8C9"
      }
    },
    {
      "cell_type": "code",
      "source": [
        "num = int(input(\"Enter your number: \"))\n",
        "\n",
        "num += 10\n",
        "num *= 2\n",
        "num -= 5\n",
        "num /= 3\n",
        "num *= 3.2\n",
        "num //= 1\n",
        "\n",
        "print(f'''The final value of the variable is: {num}''')"
      ],
      "metadata": {
        "colab": {
          "base_uri": "https://localhost:8080/"
        },
        "id": "aKgtVxxO_6dI",
        "outputId": "d4e3b7bf-c259-4228-85ca-153418b08225"
      },
      "execution_count": null,
      "outputs": [
        {
          "output_type": "stream",
          "name": "stdout",
          "text": [
            "Enter your number: 5\n",
            "The final value of the variable is: 26.0\n"
          ]
        }
      ]
    },
    {
      "cell_type": "markdown",
      "source": [
        "# Test 3"
      ],
      "metadata": {
        "id": "G40wVl1DRCYM"
      }
    },
    {
      "cell_type": "code",
      "source": [
        "# Test 3\n",
        "\n",
        "name = input(\"Enter Your Name:\")\n",
        "father_name = input(\"Enter Your Father Name:\")\n",
        "gender = input(\"Enter Your Gender:\")\n",
        "age = int(input(\"Enter Your Age:\"))\n",
        "area_code = input(\"Enter Your Area Code:\")\n",
        "\n",
        "if age >= 18:\n",
        "   print(\"You are eligible for vote\")\n",
        "\n",
        "   if area_code == 432:\n",
        "      print(\"Your voting area is malir\")\n",
        "\n",
        "   else:\n",
        "        print(\"Your voting area is other\")\n",
        "\n",
        "else:\n",
        "     print(\"You are not eligible for vote\")"
      ],
      "metadata": {
        "colab": {
          "base_uri": "https://localhost:8080/"
        },
        "id": "etIgIIh-ACqJ",
        "outputId": "d861b4fa-c473-4296-f53a-1f3828c77e61"
      },
      "execution_count": null,
      "outputs": [
        {
          "output_type": "stream",
          "name": "stdout",
          "text": [
            "Enter Your Name:Abdul Subhan\n",
            "Enter Your Father Name:Saghir Muhammad\n",
            "Enter Your Gender:Male\n",
            "Enter Your Age:17\n",
            "Enter Your Area Code:432\n",
            "You are not eligible for vote\n"
          ]
        }
      ]
    },
    {
      "cell_type": "markdown",
      "source": [
        "# Test 4"
      ],
      "metadata": {
        "id": "0ox-RUWlROnk"
      }
    },
    {
      "cell_type": "code",
      "source": [
        "password = input(\"Enter Your Password: \")\n",
        "\n",
        "if len(password) < 6:\n",
        "   print(\"Weak Password\")\n",
        "\n",
        "elif len(password) >= 6 and len(password) <= 10:\n",
        "     print(\"Modrate Password\")\n",
        "\n",
        "elif len(password) > 10:\n",
        "     print(\"Strong Password\")\n",
        "\n",
        "elif \" \" in password:\n",
        "   print(\"Invalid Password\")\n",
        "\n",
        "else:\n",
        "     print(\"Correct Password\")"
      ],
      "metadata": {
        "id": "RAFvCLIdoETM",
        "colab": {
          "base_uri": "https://localhost:8080/"
        },
        "outputId": "df5ea285-96ff-44cd-e3e6-39555ff5c5eb"
      },
      "execution_count": null,
      "outputs": [
        {
          "output_type": "stream",
          "name": "stdout",
          "text": [
            "Enter Your Password: MASubhan2110\n",
            "Strong Password\n"
          ]
        }
      ]
    },
    {
      "cell_type": "markdown",
      "source": [
        "# Test 5"
      ],
      "metadata": {
        "id": "XVTp-1zFRWR3"
      }
    },
    {
      "cell_type": "code",
      "source": [
        "numbers = [1, 2, 3, 4, 5, 6, 7, 8, 9, 10, 11, 12, 13, 14, 15, 16, 17, 18, 19, 20]\n",
        "\n",
        "Even_numbers = numbers[1::2]\n",
        "\n",
        "print(Even_numbers)"
      ],
      "metadata": {
        "colab": {
          "base_uri": "https://localhost:8080/"
        },
        "id": "qV8aLDpyfS2y",
        "outputId": "c4335a9f-39ae-4869-8771-1e97c4fe5f50"
      },
      "execution_count": null,
      "outputs": [
        {
          "output_type": "stream",
          "name": "stdout",
          "text": [
            "[2, 4, 6, 8, 10, 12, 14, 16, 18, 20]\n"
          ]
        }
      ]
    },
    {
      "cell_type": "code",
      "source": [
        "numbers = [1, 2, 3, 4, 5, 6, 7, 8, 9, 10, 11, 12, 13, 14, 15, 16, 17, 18, 19, 20]\n",
        "\n",
        "odd_numbers = numbers[::2]\n",
        "\n",
        "print(odd_numbers)"
      ],
      "metadata": {
        "colab": {
          "base_uri": "https://localhost:8080/"
        },
        "id": "HbhM6l41RdFV",
        "outputId": "44a861b9-413d-4481-9740-8277bb172301"
      },
      "execution_count": null,
      "outputs": [
        {
          "output_type": "stream",
          "name": "stdout",
          "text": [
            "[1, 3, 5, 7, 9, 11, 13, 15, 17, 19]\n"
          ]
        }
      ]
    },
    {
      "cell_type": "markdown",
      "source": [
        "# Test 6"
      ],
      "metadata": {
        "id": "qJK1jybQRcem"
      }
    },
    {
      "cell_type": "code",
      "source": [
        "students = {1:{\"name\":\"emma\", \"age\":27, \"roll no.\":12345}, 2:{\"name\":\"mic\", \"age\":22, \"roll no.\":54321}}\n",
        "\n",
        "print(students[1][\"age\"])"
      ],
      "metadata": {
        "colab": {
          "base_uri": "https://localhost:8080/"
        },
        "id": "ODx8K0GBpyI5",
        "outputId": "e463e770-a841-4a22-b836-1e8ab22e83c2"
      },
      "execution_count": null,
      "outputs": [
        {
          "output_type": "stream",
          "name": "stdout",
          "text": [
            "27\n"
          ]
        }
      ]
    },
    {
      "cell_type": "markdown",
      "source": [
        "# Test 7"
      ],
      "metadata": {
        "id": "CDc_dsMvRxYw"
      }
    },
    {
      "cell_type": "code",
      "source": [
        "for i in range(5):\n",
        "    print(\"* \" * 5)"
      ],
      "metadata": {
        "id": "N-C5zRYqqbRC",
        "colab": {
          "base_uri": "https://localhost:8080/"
        },
        "outputId": "eb686b6e-1188-47bc-9de1-8d1d66d9fa4d"
      },
      "execution_count": null,
      "outputs": [
        {
          "output_type": "stream",
          "name": "stdout",
          "text": [
            "* * * * * \n",
            "* * * * * \n",
            "* * * * * \n",
            "* * * * * \n",
            "* * * * * \n"
          ]
        }
      ]
    },
    {
      "cell_type": "code",
      "source": [
        "for i in range(5):\n",
        "    print(\" \" * (5 - i) + \"*\" * (i + 1))"
      ],
      "metadata": {
        "colab": {
          "base_uri": "https://localhost:8080/"
        },
        "id": "JWZrbDMhR4PG",
        "outputId": "52de0a7a-04d3-4197-d8b7-0d3a1194974f"
      },
      "execution_count": null,
      "outputs": [
        {
          "output_type": "stream",
          "name": "stdout",
          "text": [
            "     *\n",
            "    **\n",
            "   ***\n",
            "  ****\n",
            " *****\n"
          ]
        }
      ]
    },
    {
      "cell_type": "markdown",
      "source": [
        "# Test 8"
      ],
      "metadata": {
        "id": "9NQ-0xd7R6m1"
      }
    },
    {
      "cell_type": "code",
      "source": [
        "i = 0\n",
        "while True:\n",
        "    number = int(input(\"Enter the number: \"))\n",
        "\n",
        "    if number < 0:\n",
        "        print(\"Negative Value\")\n",
        "        break\n",
        "    else:\n",
        "        i += number\n",
        "print(i)"
      ],
      "metadata": {
        "id": "wEhq-mKBTRS8",
        "colab": {
          "base_uri": "https://localhost:8080/"
        },
        "outputId": "d8d4e827-749b-4e8d-c961-95a1ad57a803"
      },
      "execution_count": null,
      "outputs": [
        {
          "output_type": "stream",
          "name": "stdout",
          "text": [
            "Enter the number: 5\n",
            "Enter the number: 0\n",
            "Enter the number: -1\n",
            "Negative Value\n",
            "5\n"
          ]
        }
      ]
    },
    {
      "cell_type": "markdown",
      "source": [
        "# Test 9"
      ],
      "metadata": {
        "id": "XY9gMs2HST2y"
      }
    },
    {
      "cell_type": "code",
      "source": [
        "numbers = int(input(\"Enter the number: \"))\n",
        "sum_of_numbers = sum([i for i in range(1, numbers + 1)])\n",
        "print(sum_of_numbers)"
      ],
      "metadata": {
        "id": "jX-1UTWe2teW",
        "colab": {
          "base_uri": "https://localhost:8080/"
        },
        "outputId": "07faa010-bbb4-4886-db8a-e91698fc9a3d"
      },
      "execution_count": null,
      "outputs": [
        {
          "output_type": "stream",
          "name": "stdout",
          "text": [
            "Enter the number: 5\n",
            "15\n"
          ]
        }
      ]
    },
    {
      "cell_type": "code",
      "source": [
        "prime_numbers = [i for i in range(25, 50) if all(i % j != 0 for j in range(2, i))]\n",
        "print(prime_numbers)"
      ],
      "metadata": {
        "colab": {
          "base_uri": "https://localhost:8080/"
        },
        "id": "wswlsiRjSay2",
        "outputId": "37beb876-5559-49aa-cac2-b73b40cba758"
      },
      "execution_count": null,
      "outputs": [
        {
          "output_type": "stream",
          "name": "stdout",
          "text": [
            "[29, 31, 37, 41, 43, 47]\n"
          ]
        }
      ]
    },
    {
      "cell_type": "markdown",
      "source": [
        "# Test 10"
      ],
      "metadata": {
        "id": "aPsAkpkvSdEZ"
      }
    },
    {
      "cell_type": "code",
      "source": [
        "def factorial(number):\n",
        "  i = 1\n",
        "  while number > 0:\n",
        "    i *= number\n",
        "    number -= 1\n",
        "  return i\n",
        "\n",
        "number = int(input(\"Enter the number: \"))\n",
        "print(factorial(number))"
      ],
      "metadata": {
        "id": "3yYzpsGXbPft",
        "colab": {
          "base_uri": "https://localhost:8080/"
        },
        "outputId": "a4fd3b55-2c91-426b-91d0-a0c9263d6803"
      },
      "execution_count": null,
      "outputs": [
        {
          "output_type": "stream",
          "name": "stdout",
          "text": [
            "Enter the number: 5\n",
            "120\n"
          ]
        }
      ]
    },
    {
      "cell_type": "markdown",
      "source": [
        "#Test 11"
      ],
      "metadata": {
        "id": "DU7-WA8wSi1s"
      }
    },
    {
      "cell_type": "code",
      "source": [
        "Table = lambda x : [x * i for i in range(1, 11)]\n",
        "\n",
        "print(Table(2))"
      ],
      "metadata": {
        "colab": {
          "base_uri": "https://localhost:8080/"
        },
        "id": "yHGeFkaA00Q0",
        "outputId": "f30b73e0-f617-46e9-cc2e-b8bf6fa18c7b"
      },
      "execution_count": null,
      "outputs": [
        {
          "output_type": "stream",
          "name": "stdout",
          "text": [
            "[2, 4, 6, 8, 10, 12, 14, 16, 18, 20]\n"
          ]
        }
      ]
    },
    {
      "cell_type": "markdown",
      "source": [
        "# Test 12"
      ],
      "metadata": {
        "id": "bv6P_FG4Sn3Z"
      }
    },
    {
      "cell_type": "code",
      "source": [
        "class Humans:\n",
        "    def eat(self):\n",
        "        print(\"This is human food.\")\n",
        "\n",
        "class Human(Humans):\n",
        "    def roti(self):\n",
        "        print(\"This is roti.\")\n",
        "\n",
        "human = Human()\n",
        "human.eat()\n",
        "human.roti()"
      ],
      "metadata": {
        "colab": {
          "base_uri": "https://localhost:8080/"
        },
        "id": "tC7G8smxOooh",
        "outputId": "b87ee192-8809-4c93-836e-b799e77f1ae0"
      },
      "execution_count": null,
      "outputs": [
        {
          "output_type": "stream",
          "name": "stdout",
          "text": [
            "This is human food.\n",
            "This is roti.\n"
          ]
        }
      ]
    },
    {
      "cell_type": "code",
      "source": [
        "class Operation:\n",
        "    def __init__(self, a, b):\n",
        "        self.__a = a\n",
        "        self.__b = b\n",
        "\n",
        "    def add(self):\n",
        "        return self.__a + self.__b\n",
        "\n",
        "result = Operation(2, 3)\n",
        "result.add()"
      ],
      "metadata": {
        "colab": {
          "base_uri": "https://localhost:8080/"
        },
        "id": "7bOiLFJXPXYP",
        "outputId": "938fff8c-0fa5-4936-b53e-57dd4eb80672"
      },
      "execution_count": null,
      "outputs": [
        {
          "output_type": "execute_result",
          "data": {
            "text/plain": [
              "5"
            ]
          },
          "metadata": {},
          "execution_count": 6
        }
      ]
    },
    {
      "cell_type": "markdown",
      "source": [
        "# Test 13"
      ],
      "metadata": {
        "id": "NQYBGmBWEnd3"
      }
    },
    {
      "cell_type": "code",
      "source": [
        "import numpy as np\n",
        "\n",
        "arr = np.arange(9)\n",
        "array = arr.reshape(3,3)\n",
        "print(array)\n",
        "\n",
        "matrix = array * array\n",
        "print(matrix)\n",
        "\n",
        "print(matrix[1][2])"
      ],
      "metadata": {
        "colab": {
          "base_uri": "https://localhost:8080/"
        },
        "id": "IY7Qt_V5ErwX",
        "outputId": "1615d3d1-3619-40a3-ff0d-4bb9736b4a9d"
      },
      "execution_count": 6,
      "outputs": [
        {
          "output_type": "stream",
          "name": "stdout",
          "text": [
            "[[0 1 2]\n",
            " [3 4 5]\n",
            " [6 7 8]]\n",
            "[[ 0  1  4]\n",
            " [ 9 16 25]\n",
            " [36 49 64]]\n",
            "25\n"
          ]
        }
      ]
    }
  ]
}