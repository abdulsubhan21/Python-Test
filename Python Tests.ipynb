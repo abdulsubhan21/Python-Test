{
  "nbformat": 4,
  "nbformat_minor": 0,
  "metadata": {
    "colab": {
      "provenance": []
    },
    "kernelspec": {
      "name": "python3",
      "display_name": "Python 3"
    },
    "language_info": {
      "name": "python"
    }
  },
  "cells": [
    {
      "cell_type": "code",
      "execution_count": null,
      "metadata": {
        "id": "Paz7sw526qxR",
        "outputId": "045a980c-a471-4b92-e9d3-ed69d9d6c3a6",
        "colab": {
          "base_uri": "https://localhost:8080/"
        }
      },
      "outputs": [
        {
          "output_type": "stream",
          "name": "stdout",
          "text": [
            "Enter your first name: Abdul\n",
            "Enter your last name: Subhan\n",
            "Enter your age: 17\n",
            "My name is Abdul Subhan. I am 17 years old.\n",
            "My name is Abdul Subhan. I am 17 years old.\n",
            "<class 'str'>\n",
            "<class 'int'>\n",
            "<class 'float'>\n"
          ]
        }
      ],
      "source": [
        "# Test 1\n",
        "\n",
        "first_name = input(\"Enter your first name: \")\n",
        "last_name = input(\"Enter your last name: \")\n",
        "age = input(\"Enter your age: \")\n",
        "print(f'''My name is {first_name} {last_name}. I am {age} years old.''')\n",
        "print(\"My name is \" + first_name + \" \" + last_name + \". I am \" + age + \" years old.\")\n",
        "\n",
        "var_1 = \"Hello\"\n",
        "var_2 = 50\n",
        "var_3 = 7.89\n",
        "print(type(var_1))\n",
        "print(type(var_2))\n",
        "print(type(var_3))"
      ]
    },
    {
      "cell_type": "code",
      "source": [
        "# Test 2\n",
        "\n",
        "num = int(input(\"Enter your number: \"))\n",
        "\n",
        "num += 10\n",
        "num *= 2\n",
        "num -= 5\n",
        "num /= 3\n",
        "num *= 3.2\n",
        "num //= 1\n",
        "\n",
        "print(f'''The final value of the variable is: {num}''')"
      ],
      "metadata": {
        "colab": {
          "base_uri": "https://localhost:8080/"
        },
        "id": "aKgtVxxO_6dI",
        "outputId": "02ceedcc-a93c-4fc8-c98d-a6f4578966ca"
      },
      "execution_count": null,
      "outputs": [
        {
          "output_type": "stream",
          "name": "stdout",
          "text": [
            "Enter your number: 5\n",
            "The final value of the variable is: 26.0\n"
          ]
        }
      ]
    },
    {
      "cell_type": "code",
      "source": [
        "# Test 3\n",
        "\n",
        "name = input(\"Enter Your Name:\")\n",
        "father_name = input(\"Enter Your Father Name:\")\n",
        "gender = input(\"Enter Your Gender:\")\n",
        "age = int(input(\"Enter Your Age:\"))\n",
        "area_code = input(\"Enter Your Area Code:\")\n",
        "\n",
        "if age >= 18:\n",
        "   print(\"You are eligible for vote\")\n",
        "\n",
        "   if area_code == 432:\n",
        "      print(\"Your voting area is malir\")\n",
        "\n",
        "   else:\n",
        "        print(\"Your voting area is other\")\n",
        "\n",
        "else:\n",
        "     print(\"You are not eligible for vote\")"
      ],
      "metadata": {
        "colab": {
          "base_uri": "https://localhost:8080/"
        },
        "id": "etIgIIh-ACqJ",
        "outputId": "4e198d70-2563-42ae-d982-6b3704e1f55e"
      },
      "execution_count": null,
      "outputs": [
        {
          "output_type": "stream",
          "name": "stdout",
          "text": [
            "Enter Your Name:Abdul Subhan\n",
            "Enter Your Father Name:Saghir Muhammad\n",
            "Enter Your Gender:Male\n",
            "Enter Your Age:17\n",
            "Enter Your Area Code:432\n",
            "You are not eligible for vote\n"
          ]
        }
      ]
    },
    {
      "cell_type": "code",
      "source": [
        "# Test 4\n",
        "\n",
        "password = input(\"Enter Your Password: \")\n",
        "\n",
        "if len(password) < 6:\n",
        "   print(\"Weak Password\")\n",
        "\n",
        "elif len(password) >= 6 and len(password) <= 10:\n",
        "     print(\"Modrate Password\")\n",
        "\n",
        "elif len(password) > 10:\n",
        "     print(\"Strong Password\")\n",
        "\n",
        "elif \" \" in password:\n",
        "   print(\"Invalid Password\")\n",
        "\n",
        "else:\n",
        "     print(\"Correct Password\")"
      ],
      "metadata": {
        "id": "RAFvCLIdoETM",
        "colab": {
          "base_uri": "https://localhost:8080/"
        },
        "outputId": "fe11a3bc-4a3e-4bb6-e35e-48bd90af7304"
      },
      "execution_count": null,
      "outputs": [
        {
          "output_type": "stream",
          "name": "stdout",
          "text": [
            "Enter Your Password: MASubhan2110\n",
            "Strong Password\n"
          ]
        }
      ]
    },
    {
      "cell_type": "code",
      "source": [
        "# Test 5\n",
        "\n",
        "numbers = [1, 2, 3, 4, 5, 6, 7, 8, 9, 10, 11, 12, 13, 14, 15, 16, 17, 18, 19, 20]\n",
        "\n",
        "Even_numbers = numbers[1::2]\n",
        "odd_numbers = numbers[::2]\n",
        "\n",
        "print(Even_numbers)\n",
        "print(odd_numbers)"
      ],
      "metadata": {
        "colab": {
          "base_uri": "https://localhost:8080/"
        },
        "id": "qV8aLDpyfS2y",
        "outputId": "3bee2362-41f0-4a7f-fa37-b817969055db"
      },
      "execution_count": null,
      "outputs": [
        {
          "output_type": "stream",
          "name": "stdout",
          "text": [
            "[2, 4, 6, 8, 10, 12, 14, 16, 18, 20]\n",
            "[1, 3, 5, 7, 9, 11, 13, 15, 17, 19]\n"
          ]
        }
      ]
    },
    {
      "cell_type": "code",
      "source": [
        "# Test 6\n",
        "\n",
        "students = {1:{\"name\":\"emma\", \"age\":27, \"roll no.\":12345}, 2:{\"name\":\"mic\", \"age\":22, \"roll no.\":54321}}\n",
        "\n",
        "print(students[1][\"age\"])"
      ],
      "metadata": {
        "colab": {
          "base_uri": "https://localhost:8080/"
        },
        "id": "ODx8K0GBpyI5",
        "outputId": "6a3f80c5-34fc-4a1d-a777-8cf950455461"
      },
      "execution_count": null,
      "outputs": [
        {
          "output_type": "stream",
          "name": "stdout",
          "text": [
            "27\n"
          ]
        }
      ]
    },
    {
      "cell_type": "code",
      "source": [
        "# Test 7\n",
        "\n",
        "for i in range(5):\n",
        "    print(\"* \" * 5)\n",
        "\n",
        "for i in range(5):\n",
        "    print(\" \" * (5 - i) + \"*\" * (i + 1))"
      ],
      "metadata": {
        "id": "N-C5zRYqqbRC",
        "colab": {
          "base_uri": "https://localhost:8080/"
        },
        "outputId": "1e3f7eea-0861-478a-fae5-86455d808a1b"
      },
      "execution_count": null,
      "outputs": [
        {
          "output_type": "stream",
          "name": "stdout",
          "text": [
            "* * * * * \n",
            "* * * * * \n",
            "* * * * * \n",
            "* * * * * \n",
            "* * * * * \n",
            "     *\n",
            "    **\n",
            "   ***\n",
            "  ****\n",
            " *****\n"
          ]
        }
      ]
    },
    {
      "cell_type": "code",
      "source": [
        "# Test 8\n",
        "\n",
        "i = 0\n",
        "while True:\n",
        "    number = int(input(\"Enter the number: \"))\n",
        "\n",
        "    if number < 0:\n",
        "        print(\"Negative Value\")\n",
        "        break\n",
        "    else:\n",
        "        i += number\n",
        "print(i)"
      ],
      "metadata": {
        "id": "wEhq-mKBTRS8",
        "colab": {
          "base_uri": "https://localhost:8080/"
        },
        "outputId": "0c767658-db11-453b-bd97-4ad8edc0e1d4"
      },
      "execution_count": null,
      "outputs": [
        {
          "output_type": "stream",
          "name": "stdout",
          "text": [
            "Enter the number: 5\n",
            "Enter the number: 0\n",
            "Enter the number: -1\n",
            "Negative Value\n",
            "5\n"
          ]
        }
      ]
    },
    {
      "cell_type": "code",
      "source": [
        "# Test 9\n",
        "\n",
        "numbers = int(input(\"Enter the number: \"))\n",
        "sum_of_numbers = sum([i for i in range(1, numbers + 1)])\n",
        "print(sum_of_numbers)\n",
        "\n",
        "prime_numbers = [i for i in range(25, 50) if all(i % j != 0 for j in range(2, i))]\n",
        "print(prime_numbers)"
      ],
      "metadata": {
        "id": "jX-1UTWe2teW",
        "colab": {
          "base_uri": "https://localhost:8080/"
        },
        "outputId": "5d24e436-c657-4e84-aedb-1e18f78e03c2"
      },
      "execution_count": null,
      "outputs": [
        {
          "output_type": "stream",
          "name": "stdout",
          "text": [
            "Enter the number: 5\n",
            "15\n",
            "[29, 31, 37, 41, 43, 47]\n"
          ]
        }
      ]
    },
    {
      "cell_type": "code",
      "source": [
        "# Test 10\n",
        "\n",
        "def factorial(number):\n",
        "  i = 1\n",
        "  while number > 0:\n",
        "    i *= number\n",
        "    number -= 1\n",
        "  return i\n",
        "\n",
        "number = int(input(\"Enter the number: \"))\n",
        "print(factorial(number))"
      ],
      "metadata": {
        "id": "3yYzpsGXbPft",
        "colab": {
          "base_uri": "https://localhost:8080/"
        },
        "outputId": "1edc67c7-066b-4f2a-f693-2f96581bcc7d"
      },
      "execution_count": null,
      "outputs": [
        {
          "output_type": "stream",
          "name": "stdout",
          "text": [
            "Enter the number: 5\n",
            "120\n"
          ]
        }
      ]
    },
    {
      "cell_type": "code",
      "source": [
        "# Test 11\n",
        "\n",
        "Table = lambda x : [x * i for i in range(1, 11)]\n",
        "\n",
        "print(Table(2))"
      ],
      "metadata": {
        "colab": {
          "base_uri": "https://localhost:8080/"
        },
        "id": "yHGeFkaA00Q0",
        "outputId": "1b98b6e9-96c5-497f-8e84-d0653c3640e9"
      },
      "execution_count": 1,
      "outputs": [
        {
          "output_type": "stream",
          "name": "stdout",
          "text": [
            "[2, 4, 6, 8, 10, 12, 14, 16, 18, 20]\n"
          ]
        }
      ]
    }
  ]
}