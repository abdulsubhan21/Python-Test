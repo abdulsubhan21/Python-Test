{
  "nbformat": 4,
  "nbformat_minor": 0,
  "metadata": {
    "colab": {
      "provenance": []
    },
    "kernelspec": {
      "name": "python3",
      "display_name": "Python 3"
    },
    "language_info": {
      "name": "python"
    }
  },
  "cells": [
    {
      "cell_type": "code",
      "execution_count": null,
      "metadata": {
        "id": "Paz7sw526qxR",
        "outputId": "4db0132a-6bf6-4422-d2cd-970b1c581a92",
        "colab": {
          "base_uri": "https://localhost:8080/"
        }
      },
      "outputs": [
        {
          "output_type": "stream",
          "name": "stdout",
          "text": [
            "Enter your first name: Abdul\n",
            "Enter your last name: Subhan\n",
            "Enter your age: 17\n",
            "My name is Abdul Subhan. I am 17 years old.\n"
          ]
        }
      ],
      "source": [
        "# Test 1\n",
        "first_name = input(\"Enter your first name: \")\n",
        "last_name = input(\"Enter your last name: \")\n",
        "age = input(\"Enter your age: \")\n",
        "\n",
        "print(f'''My name is {first_name} {last_name}. I am {age} years old.''')"
      ]
    },
    {
      "cell_type": "code",
      "source": [
        "# Test 2\n",
        "\n",
        "first_name = input(\"Enter your first name: \")\n",
        "last_name = input(\"Enter your last name: \")\n",
        "age = input(\"Enter your age: \")\n",
        "\n",
        "print(\"My name is \" + first_name + \" \" + last_name + \". I am \" + age + \" years old.\")"
      ],
      "metadata": {
        "colab": {
          "base_uri": "https://localhost:8080/"
        },
        "id": "sdBKOvLm-keh",
        "outputId": "a971acd9-a863-4486-d2f3-ab1590266498"
      },
      "execution_count": null,
      "outputs": [
        {
          "output_type": "stream",
          "name": "stdout",
          "text": [
            "Enter your first name: Abdul\n",
            "Enter your last name: Subhan\n",
            "Enter your age: 17\n",
            "My name is Abdul Subhan. I am 17 years old.\n"
          ]
        }
      ]
    },
    {
      "cell_type": "code",
      "source": [
        "# Test 3\n",
        "\n",
        "var_1 = \"Hello\"\n",
        "var_2 = 50\n",
        "var_3 = 7.89\n",
        "\n",
        "print(type(var_1))\n",
        "print(type(var_2))\n",
        "print(type(var_3))"
      ],
      "metadata": {
        "colab": {
          "base_uri": "https://localhost:8080/"
        },
        "id": "TcNAMYAe_TjF",
        "outputId": "b4f82e74-a3ee-4d3b-fa0d-fd89129a0654"
      },
      "execution_count": null,
      "outputs": [
        {
          "output_type": "stream",
          "name": "stdout",
          "text": [
            "<class 'str'>\n",
            "<class 'int'>\n",
            "<class 'float'>\n"
          ]
        }
      ]
    },
    {
      "cell_type": "code",
      "source": [
        "# Test 4\n",
        "\n",
        "num = int(input(\"Enter your number: \"))\n",
        "\n",
        "num += 10\n",
        "\n",
        "num *= 2\n",
        "\n",
        "num -= 5\n",
        "\n",
        "num /= 3\n",
        "\n",
        "num *= 3.2\n",
        "\n",
        "num //= 1\n",
        "\n",
        "print(f'''The final value of the variable is: {num}''')"
      ],
      "metadata": {
        "colab": {
          "base_uri": "https://localhost:8080/"
        },
        "id": "aKgtVxxO_6dI",
        "outputId": "24a4894a-d36e-4507-d3d1-abb1cb41ae05"
      },
      "execution_count": null,
      "outputs": [
        {
          "output_type": "stream",
          "name": "stdout",
          "text": [
            "Enter your number: 10\n",
            "The final value of the variable is: 37.0\n"
          ]
        }
      ]
    },
    {
      "cell_type": "code",
      "source": [
        "# Test 5\n",
        "\n",
        "name = input(\"Enter Your Name:\")\n",
        "father_name = input(\"Enter Your Father Name:\")\n",
        "gender = input(\"Enter Your Gender:\")\n",
        "age = int(input(\"Enter Your Age:\"))\n",
        "\n",
        "if age >= 18:\n",
        "   print(\"You are eligible for vote\")\n",
        "\n",
        "else:\n",
        "     print(\"You are not eligible for vote\")\n",
        "\n",
        "area_code = input(\"Enter Your Area Code:\")\n",
        "\n",
        "if area_code == 432:\n",
        "   print(\"Your voting area is malir\")\n",
        "\n",
        "elif area_code != 432:\n",
        "     area_code = input(\"Re-enter Your Area Code:\")\n",
        "     print(\"Your voting area is malir\")\n",
        "\n",
        "else:\n",
        "     print(\"Your voting area is other\")"
      ],
      "metadata": {
        "colab": {
          "base_uri": "https://localhost:8080/"
        },
        "id": "etIgIIh-ACqJ",
        "outputId": "13eb6f54-5c99-418a-9437-9f968a5cdb36"
      },
      "execution_count": null,
      "outputs": [
        {
          "output_type": "stream",
          "name": "stdout",
          "text": [
            "Enter Your Name:Abdul Subhan\n",
            "Enter Your Father Name:Saghir Muhammad\n",
            "Enter Your Gender:Male\n",
            "Enter Your Age:18\n",
            "You are eligible for vote\n",
            "Enter Your Area Code:232\n",
            "Re-enter Your Area Code:432\n",
            "Your voting area is malir\n"
          ]
        }
      ]
    },
    {
      "cell_type": "code",
      "source": [
        "# Test 6\n",
        "\n",
        "alpha = input(\"Enter The Alphabet: \")\n",
        "\n",
        "if alpha == \"a\":\n",
        "   print(\"This is vowel\")\n",
        "\n",
        "elif alpha == \"e\":\n",
        "   print(\"This is vowel\")\n",
        "\n",
        "elif alpha == \"i\":\n",
        "   print(\"This is vowel\")\n",
        "\n",
        "elif alpha == \"o\":\n",
        "   print(\"This is vowel\")\n",
        "\n",
        "elif alpha == \"u\":\n",
        "   print(\"This is vowel\")\n",
        "\n",
        "else:\n",
        "     print(\"This is consunent\")"
      ],
      "metadata": {
        "colab": {
          "base_uri": "https://localhost:8080/"
        },
        "id": "LBULaxHq9WCp",
        "outputId": "1c5509ea-7e78-4398-e65a-6af66fe61c4e"
      },
      "execution_count": null,
      "outputs": [
        {
          "output_type": "stream",
          "name": "stdout",
          "text": [
            "Enter The Alphabet: u\n",
            "This is vowel\n"
          ]
        }
      ]
    },
    {
      "cell_type": "code",
      "source": [
        "# Test 7\n",
        "\n",
        "name = input(\"Enter The Name: \")\n",
        "first_num = int((input(\"Enter The First Number: \")))\n",
        "second_num = int((input(\"Enter The Second Number: \")))\n",
        "operator = input(\"Enter The Operator (+, -, *, /): \")\n",
        "\n",
        "if operator == \"+\":\n",
        "   result = first_num + second_num\n",
        "\n",
        "elif operator == \"-\":\n",
        "     result = first_num - second_num\n",
        "\n",
        "elif operator == \"*\":\n",
        "     result = first_num * second_num\n",
        "\n",
        "elif operator == \"/\":\n",
        "     result = first_num / second_num\n",
        "\n",
        "else:\n",
        "    result = \"Invalid operator\"\n",
        "\n",
        "if operator in [\"+\", \"-\", \"*\", \"/\"]:\n",
        "    print(f\"{first_num} {operator} {second_num} = {result}\")\n",
        "\n",
        "else:\n",
        "    print(\"Error: Invalid operator entered.\")\n",
        "\n",
        "if first_num > 100:\n",
        "   print(f'''My name is {name}, and {first_num} is grater then 100.''')"
      ],
      "metadata": {
        "id": "KXE-DaUg915X",
        "colab": {
          "base_uri": "https://localhost:8080/"
        },
        "outputId": "42bd0637-fe29-4a48-e2cb-d12ef1bf0ce2"
      },
      "execution_count": null,
      "outputs": [
        {
          "output_type": "stream",
          "name": "stdout",
          "text": [
            "Enter The Name: Abdul Subhan\n",
            "Enter The First Number: 4\n",
            "Enter The Second Number: 2\n",
            "Enter The Operator (+, -, *, /): *\n",
            "4 * 2 = 8\n"
          ]
        }
      ]
    },
    {
      "cell_type": "code",
      "source": [
        "# Test 8\n",
        "\n",
        "first_name = input(\"Enter The First Name: \")\n",
        "last_name = input(\"Enter The Last Name: \")\n",
        "birth_year = int(input(\"Enter The Birth Year: \"))\n",
        "\n",
        "full_name = first_name + last_name\n",
        "print(full_name.capitalize())\n",
        "\n",
        "age = 2024 - 2007\n",
        "print(age)\n",
        "\n",
        "if age >= 18:\n",
        "   print(f'''My name is {name}. I am {age} years old. The user is greter then 18''')\n",
        "\n",
        "else:\n",
        "     print(\"The user is under 18\")"
      ],
      "metadata": {
        "colab": {
          "base_uri": "https://localhost:8080/"
        },
        "id": "4FgcW8lMyfIq",
        "outputId": "560a99b1-a09f-4ed5-e03e-d90466426835"
      },
      "execution_count": null,
      "outputs": [
        {
          "output_type": "stream",
          "name": "stdout",
          "text": [
            "Enter The First Name: Abdul\n",
            "Enter The Last Name:  Subhan\n",
            "Enter The Birth Year: 2007\n",
            "Abdul subhan\n",
            "17\n",
            "The user is under 18\n"
          ]
        }
      ]
    },
    {
      "cell_type": "code",
      "source": [
        "# Test 9\n",
        "\n",
        "num = int(input(\"Enter the Number:\"))\n",
        "\n",
        "if num % 2 == 0:\n",
        "   print(\"Even Number\")\n",
        "else:\n",
        "     print(\"Odd Number\")"
      ],
      "metadata": {
        "id": "WsS83whb6-sT",
        "outputId": "fbe0c07c-fb46-4d00-f347-b1f753c27144",
        "colab": {
          "base_uri": "https://localhost:8080/"
        }
      },
      "execution_count": null,
      "outputs": [
        {
          "output_type": "stream",
          "name": "stdout",
          "text": [
            "Enter the Number:66\n",
            "Even Number\n"
          ]
        }
      ]
    },
    {
      "cell_type": "code",
      "source": [
        "# Test 10\n",
        "\n",
        "name = input(\"Enter Your Name: \")\n",
        "num_1 = float(input(\"Enter Your First Number: \"))\n",
        "num_2 = float(input(\"Enter Your Second Number: \"))\n",
        "\n",
        "result_1 = num_1 + num_2\n",
        "result_2 = num_1 - num_2\n",
        "result_3 = num_1 * num_2\n",
        "result_4 = num_1 / num_2\n",
        "\n",
        "print(f'''Nice to meet you! your name is {name} and your results is addition: {result_1}, subtraction: {result_2}, multiplication: {result_3} and division: {result_4}''')"
      ],
      "metadata": {
        "colab": {
          "base_uri": "https://localhost:8080/"
        },
        "id": "sVJMusCip-VQ",
        "outputId": "fbae288d-ed65-4336-f2a2-a5a3407d74e3"
      },
      "execution_count": null,
      "outputs": [
        {
          "output_type": "stream",
          "name": "stdout",
          "text": [
            "Enter Your Name: Abdul Subhan\n",
            "Enter Your First Number: 2\n",
            "Enter Your Second Number: 2\n",
            "Nice to meet you! your name is Abdul Subhan and your results is addition: 4.0, subtraction: 0.0, multiplication: 4.0 and division: 1.0\n"
          ]
        }
      ]
    },
    {
      "cell_type": "code",
      "source": [
        "# Test 11\n",
        "\n",
        "first_name = input(\"Enter The First Name: \")\n",
        "second_name = input(\"Enter The Second Name: \")\n",
        "favorite_number = int(input(\"Enter the Favorite Number: \"))\n",
        "\n",
        "full_name = first_name+\" \"+second_name\n",
        "complete_name = full_name.title()\n",
        "\n",
        "if favorite_number % 2 == 0:\n",
        "   print(f'''{favorite_number} is even Number''')\n",
        "else:\n",
        "     print(f'''{favorite_number} is odd Number''')\n",
        "\n",
        "print(f'''Your name is {complete_name}.''')"
      ],
      "metadata": {
        "id": "OGo39pKSJDD5",
        "colab": {
          "base_uri": "https://localhost:8080/"
        },
        "outputId": "17c4253b-35c8-4a70-b6cd-7fd1fbc70a3c"
      },
      "execution_count": null,
      "outputs": [
        {
          "output_type": "stream",
          "name": "stdout",
          "text": [
            "Enter The First Name: abdul\n",
            "Enter The Second Name: subhan\n",
            "Enter the Favorite Number: 5\n",
            "5 is odd Number\n",
            "Your name is Abdul Subhan.\n"
          ]
        }
      ]
    },
    {
      "cell_type": "code",
      "source": [
        "# Test 12\n",
        "\n",
        "name = input(\"Name: \")\n",
        "father_name = input(\"Father Name: \")\n",
        "age = int(input(\"Age: \"))\n",
        "college_class = int(input(\"Class: \"))\n",
        "roll_number = int(input(\"Roll Number: \"))\n",
        "\n",
        "english_marks = float(input(\"Enter The Marks Of English: \"))\n",
        "math_marks = float(input(\"Enter The Marks Of Math: \"))\n",
        "physics_marks = float(input(\"Enter The Marks Of Physics: \"))\n",
        "chemistry_marks =  float(input(\"Enter The Marks Of Chemistry: \"))\n",
        "computer_marks =  float(input(\"Enter The Marks Of Computer: \"))\n",
        "\n",
        "print(\"                                   Board Of Secondary Education Karachi\")\n",
        "print(\"                                                 Mark Sheet\")\n",
        "\n",
        "print(\"Name:\",name.upper())\n",
        "print(\"Father Name:\",father_name.upper())\n",
        "print(\"age:\",age)\n",
        "print(\"Class:\",college_class)\n",
        "print(\"Roll No.:\",roll_number)\n",
        "\n",
        "print(f'''     Subjects\n",
        "English Marks: {english_marks}\n",
        "Math Marks: {math_marks}\n",
        "Physics Marks: {physics_marks}\n",
        "Chemistry Marks: {chemistry_marks}\n",
        "Computer Marks: {computer_marks}''')\n",
        "\n",
        "total_marks = english_marks + math_marks + physics_marks + chemistry_marks + computer_marks\n",
        "max_marks = 500\n",
        "percentage = (total_marks / max_marks) * 100\n",
        "grade = percentage\n",
        "\n",
        "print(f'''     Result\n",
        "Total Marks: {total_marks}\n",
        "Percentage: {percentage}''')\n",
        "\n",
        "if percentage >= 80:\n",
        "   print(\"Grade: A+\")\n",
        "\n",
        "elif percentage >= 70:\n",
        "      print(\"Grade: A\")\n",
        "\n",
        "elif percentage >= 60:\n",
        "     print(\"Grade: B\")\n",
        "\n",
        "elif percentage >= 50:\n",
        "     print(\"Grade: C\")\n",
        "\n",
        "elif percentage >= 40:\n",
        "     print(\"Grade: D\")\n",
        "\n",
        "else:\n",
        "     print(\"Fail\")"
      ],
      "metadata": {
        "id": "X5EtA9Svo45j",
        "colab": {
          "base_uri": "https://localhost:8080/"
        },
        "outputId": "85a34911-4afa-4a8d-955b-0a0bd5587568"
      },
      "execution_count": null,
      "outputs": [
        {
          "output_type": "stream",
          "name": "stdout",
          "text": [
            "Name: Abdul Subhan\n",
            "Father Name: Saghir Muhammad\n",
            "Age: 17\n",
            "Class: 12\n",
            "Roll Number: 031715\n",
            "Enter The Marks Of English: 80\n",
            "Enter The Marks Of Math: 78\n",
            "Enter The Marks Of Physics: 95\n",
            "Enter The Marks Of Chemistry: 76\n",
            "Enter The Marks Of Computer: 74\n",
            "                                   Board Of Secondary Education Karachi\n",
            "                                                 Mark Sheet\n",
            "Name: ABDUL SUBHAN\n",
            "Father Name: SAGHIR MUHAMMAD\n",
            "age: 17\n",
            "Class: 12\n",
            "Roll No.: 31715\n",
            "     Subjects\n",
            "English Marks: 80.0\n",
            "Math Marks: 78.0\n",
            "Physics Marks: 95.0\n",
            "Chemistry Marks: 76.0\n",
            "Computer Marks: 74.0\n",
            "     Result\n",
            "Total Marks: 403.0\n",
            "Percentage: 80.60000000000001\n",
            "Grade: A+\n"
          ]
        }
      ]
    },
    {
      "cell_type": "code",
      "source": [
        "# Test 13\n",
        "\n",
        "book_title = input(\"Enter the title of the book: \")\n",
        "aouther_name = input(\"Enter the Aouther Name: \")\n",
        "book_price = int(input(\"Enter the price of the book (in dollars): \"))\n",
        "\n",
        "if book_price > 100:\n",
        "    discount = book_price * 10 / 100\n",
        "\n",
        "elif book_price < 50:\n",
        "    discount = book_price * 5 / 100\n",
        "\n",
        "else:\n",
        "     discount = 0\n",
        "\n",
        "final_price = book_price - discount\n",
        "\n",
        "print(f'''   BILL SLIP\n",
        "\n",
        "Book Title: {book_title}\n",
        "Aouther Name: {aouther_name}\n",
        "Original Price: {book_price}\n",
        "Discount Applied: {discount}\n",
        "Final Price to Pay: {final_price}''')"
      ],
      "metadata": {
        "id": "iLQxQ2Sr6Cxv",
        "colab": {
          "base_uri": "https://localhost:8080/"
        },
        "outputId": "2a47834d-1edd-4fa2-fce4-af60ce953dc0"
      },
      "execution_count": null,
      "outputs": [
        {
          "output_type": "stream",
          "name": "stdout",
          "text": [
            "Enter the title of the book: The Moon\n",
            "Enter the Aouther Name: Abdul Subhan\n",
            "Enter the price of the book (in dollars): 120\n",
            "   BILL SLIP\n",
            "\n",
            "Book Title: The Moon\n",
            "Aouther Name: Abdul Subhan\n",
            "Original Price: 120\n",
            "Discount Applied: 12.0\n",
            "Final Price to Pay: 108.0\n"
          ]
        }
      ]
    },
    {
      "cell_type": "code",
      "source": [
        "# Test 14\n",
        "\n",
        "gejit_name = input(\"Enter the gejit name: \")\n",
        "gejit_price = int(input(\"Enter the gejit price: \"))\n",
        "\n",
        "if gejit_price > 500:\n",
        "   discount = gejit_price * 15 / 100\n",
        "\n",
        "elif gejit_price < 200:\n",
        "     discount = gejit_price * 7 / 100\n",
        "\n",
        "else:\n",
        "     discount = 0\n",
        "\n",
        "final_price = gejit_price - discount\n",
        "\n",
        "print(f'''Recipt\n",
        "\n",
        "Gegit_Name: {gejit_name}\n",
        "Original price: {gejit_price}\n",
        "Total discount: {discount}\n",
        "Final price: {final_price}''')"
      ],
      "metadata": {
        "id": "0kI0MAVuS508",
        "colab": {
          "base_uri": "https://localhost:8080/"
        },
        "outputId": "0f7cc786-4467-4e7e-cffd-1502dfc14901"
      },
      "execution_count": null,
      "outputs": [
        {
          "output_type": "stream",
          "name": "stdout",
          "text": [
            "Enter the gejit name: Fan\n",
            "Enter the gejit price: 150\n",
            "Recipt\n",
            "\n",
            "Gegit_Name: Fan\n",
            "Original price: 150\n",
            "Total discount: 10.5\n",
            "Final price: 139.5\n"
          ]
        }
      ]
    },
    {
      "cell_type": "code",
      "source": [
        "# Test 15\n",
        "\n",
        "meal_cost = int(input(\"Enter the cost of meal: \"))\n",
        "meal_tax = int(input(\"Enter the tax of meal: \"))\n",
        "meal_tip = int(input(\"Enter the tip of meal: \"))\n",
        "\n",
        "tax_amount = meal_cost * 10/100\n",
        "tip_amount = meal_cost * 5/100\n",
        "\n",
        "total_meal_coat = meal_cost + tax_amount + tip_amount\n",
        "\n",
        "print(f'''Meal Cost\n",
        "Meal Cost: {meal_cost}\n",
        "Meal Tax: {meal_tax}\n",
        "Meal Tip: {meal_tip}\n",
        "Total Meal Cost: {total_meal_coat}''')"
      ],
      "metadata": {
        "id": "6Sw34-2m3_S_",
        "colab": {
          "base_uri": "https://localhost:8080/"
        },
        "outputId": "5655880f-9a4e-4e26-dfa2-8ddbd948172d"
      },
      "execution_count": null,
      "outputs": [
        {
          "output_type": "stream",
          "name": "stdout",
          "text": [
            "Enter the cost of meal: 1000\n",
            "Enter the tax of meal: 10\n",
            "Enter the tip of meal: 5\n",
            "Meal Cost\n",
            "Meal Cost: 1000\n",
            "Meal Tax: 10\n",
            "Meal Tip: 5\n",
            "Total Meal Cost: 1150.0\n"
          ]
        }
      ]
    },
    {
      "cell_type": "code",
      "source": [
        "# Test 16\n",
        "\n",
        "height_in_centimeters = float(input(\"Enter Your Height (in cm): \"))\n",
        "weight_in_kilograms = float(input(\"Enter Your Weight (in kg): \"))\n",
        "\n",
        "height_in_meters = height_in_centimeters / 100\n",
        "bmi = weight_in_kilograms / height_in_meters ** 2\n",
        "print(f\"BMI: {bmi}\")\n",
        "\n",
        "if bmi < 18.5:\n",
        "    print(\"You are underweight\")\n",
        "\n",
        "elif bmi > 18.5 and bmi < 24.9:\n",
        "    print(\"You have a normal weight\")\n",
        "\n",
        "elif bmi > 25 and bmi < 29.9:\n",
        "    print(\"You are overweight\")\n",
        "\n",
        "elif bmi >= 30:\n",
        "    print(\"You are obese\")\n",
        "\n",
        "    if bmi >= 30 and bmi > 40:\n",
        "       print(\"You should consult a doctor\")\n",
        "\n",
        "else:\n",
        "     print(\"You are very, very, very overweight\")"
      ],
      "metadata": {
        "colab": {
          "base_uri": "https://localhost:8080/"
        },
        "id": "cggg8GpMHrN_",
        "outputId": "10961f24-9b92-4da2-87da-e2a4eb0a8ab2"
      },
      "execution_count": null,
      "outputs": [
        {
          "output_type": "stream",
          "name": "stdout",
          "text": [
            "Enter Your Height (in cm): 1\n",
            "Enter Your Weight (in kg): 10\n",
            "BMI: 100000.0\n",
            "You are obese\n",
            "You should consult a doctor\n"
          ]
        }
      ]
    },
    {
      "cell_type": "code",
      "source": [
        "# Test 17\n",
        "\n",
        "full_name = input(\"Enter Your Full Name: \")\n",
        "secret_code = input(\"Enter Your Secret Code: \")\n",
        "\n",
        "name_words = full_name.split()\n",
        "\n",
        "if len(name_words) < 3:\n",
        "   print(\"Please provide your full name (first, middle, and last).\")\n",
        "\n",
        "else:\n",
        "     if len(secret_code) == 8 and secret_code.startswith(\"XYZ\"):\n",
        "        print(f'''Access granted for {full_name}''')\n",
        "\n",
        "     else:\n",
        "          print(\"Invalid secret code. Code must start with 'XYZ' and be 8 characters long\")"
      ],
      "metadata": {
        "colab": {
          "base_uri": "https://localhost:8080/"
        },
        "id": "Zftkww9_Tj1_",
        "outputId": "336cf45c-204f-4b24-fcee-d1175dc3c031"
      },
      "execution_count": null,
      "outputs": [
        {
          "output_type": "stream",
          "name": "stdout",
          "text": [
            "Enter Your Full Name: Muhammad Abdul Subhan\n",
            "Enter Your Secret Code: XYZ12345\n",
            "Access granted for Muhammad Abdul Subhan\n"
          ]
        }
      ]
    },
    {
      "cell_type": "code",
      "source": [
        "# Test 18\n",
        "\n",
        "name = input(\"Enter your name: \")\n",
        "\n",
        "if len(name) != 8:\n",
        "   print(\"Invalid: name must be exactly 8 characters long.\")\n",
        "\n",
        "   if not name[0].isalpha():\n",
        "      print(\"Invalid: name must start with an alphabet character.\")\n",
        "\n",
        "   if \" \" in name:\n",
        "\n",
        "      print(\"Invalid: name must not contain any spaces.\")\n",
        "\n",
        "else:\n",
        "     print(\"Valid name!\")"
      ],
      "metadata": {
        "id": "MMcXw-c6gnF7",
        "colab": {
          "base_uri": "https://localhost:8080/"
        },
        "outputId": "73de1228-b38d-48ec-c159-86e052cfad34"
      },
      "execution_count": null,
      "outputs": [
        {
          "output_type": "stream",
          "name": "stdout",
          "text": [
            "Enter your name: MASubhan\n",
            "Valid name!\n"
          ]
        }
      ]
    },
    {
      "cell_type": "code",
      "source": [
        "# Test 19\n",
        "\n",
        "password = input(\"Enter Your Password: \")\n",
        "\n",
        "if len(password) < 6:\n",
        "   print(\"Weak Password\")\n",
        "\n",
        "elif len(password) >= 6 and len(password) <= 10:\n",
        "     print(\"Modrate Password\")\n",
        "\n",
        "elif len(password) > 10:\n",
        "     print(\"Strong Password\")\n",
        "\n",
        "elif \" \" in password:\n",
        "   print(\"Invalid Password\")\n",
        "\n",
        "else:\n",
        "     print(\"Correct Password\")"
      ],
      "metadata": {
        "id": "RAFvCLIdoETM",
        "colab": {
          "base_uri": "https://localhost:8080/"
        },
        "outputId": "a38fb44f-b943-484f-bb03-a400ff63c60b"
      },
      "execution_count": null,
      "outputs": [
        {
          "output_type": "stream",
          "name": "stdout",
          "text": [
            "Enter Your Password: Subhan21102007\n",
            "Strong Password\n"
          ]
        }
      ]
    },
    {
      "cell_type": "code",
      "source": [
        "# Test 20\n",
        "\n",
        "numbers = [1, 2, 3, 4, 5, 6, 7, 8, 9, 10, 11, 12, 13, 14, 15, 16, 17, 18, 19, 20]\n",
        "\n",
        "Even_numbers = numbers[1::2]\n",
        "\n",
        "print(Even_numbers)"
      ],
      "metadata": {
        "colab": {
          "base_uri": "https://localhost:8080/"
        },
        "id": "qV8aLDpyfS2y",
        "outputId": "f00a97d1-e412-487a-e91d-eee188976108"
      },
      "execution_count": null,
      "outputs": [
        {
          "output_type": "stream",
          "name": "stdout",
          "text": [
            "[2, 4, 6, 8, 10, 12, 14, 16, 18, 20]\n"
          ]
        }
      ]
    },
    {
      "cell_type": "code",
      "source": [
        "# Test 21\n",
        "\n",
        "numbers = [1, 2, 3, 4, 5, 6, 7, 8, 9, 10, 11, 12, 13, 14, 15, 16, 17, 18, 19, 20]\n",
        "\n",
        "odd_numbers = numbers[::2]\n",
        "\n",
        "print(odd_numbers)"
      ],
      "metadata": {
        "colab": {
          "base_uri": "https://localhost:8080/"
        },
        "id": "W4gFJFmoevjV",
        "outputId": "4de8b09c-f5c3-4589-ef29-0f89d3ae04be"
      },
      "execution_count": null,
      "outputs": [
        {
          "output_type": "stream",
          "name": "stdout",
          "text": [
            "[1, 3, 5, 7, 9, 11, 13, 15, 17, 19]\n"
          ]
        }
      ]
    },
    {
      "cell_type": "code",
      "source": [
        "# Test 22\n",
        "\n",
        "students = {1:{\"name\":\"emma\", \"age\":27, \"roll no.\":12345}, 2:{\"name\":\"mic\", \"age\":22, \"roll no.\":54321}}\n",
        "\n",
        "print(students[1][\"age\"])"
      ],
      "metadata": {
        "colab": {
          "base_uri": "https://localhost:8080/"
        },
        "id": "ODx8K0GBpyI5",
        "outputId": "0e6a372e-bb25-4744-c2db-e9282655354d"
      },
      "execution_count": null,
      "outputs": [
        {
          "output_type": "stream",
          "name": "stdout",
          "text": [
            "27\n"
          ]
        }
      ]
    },
    {
      "cell_type": "code",
      "source": [
        "# Test 23\n",
        "\n",
        "for i in range(5):\n",
        "    print(\"* \" * 5)"
      ],
      "metadata": {
        "id": "N-C5zRYqqbRC",
        "colab": {
          "base_uri": "https://localhost:8080/"
        },
        "outputId": "11364997-5896-4c37-f63d-b490b7a004f9"
      },
      "execution_count": null,
      "outputs": [
        {
          "output_type": "stream",
          "name": "stdout",
          "text": [
            "* * * * * \n",
            "* * * * * \n",
            "* * * * * \n",
            "* * * * * \n",
            "* * * * * \n"
          ]
        }
      ]
    },
    {
      "cell_type": "code",
      "source": [
        "# Test 24\n",
        "\n",
        "for i in range(5):\n",
        "    print(\" \" * (5 - i) + \"*\" * (i + 1))"
      ],
      "metadata": {
        "colab": {
          "base_uri": "https://localhost:8080/"
        },
        "id": "JW3vaGENNQdk",
        "outputId": "18687501-5144-48c6-ce74-920841c8190d"
      },
      "execution_count": null,
      "outputs": [
        {
          "output_type": "stream",
          "name": "stdout",
          "text": [
            "     *\n",
            "    **\n",
            "   ***\n",
            "  ****\n",
            " *****\n"
          ]
        }
      ]
    },
    {
      "cell_type": "code",
      "source": [
        "# Test 25\n",
        "\n",
        "number = int(input(\"Enter the number: \"))\n",
        "\n",
        "factorial = 1\n",
        "\n",
        "while number > 1:\n",
        "      factorial *= number\n",
        "      number -= 1\n",
        "\n",
        "print(factorial)"
      ],
      "metadata": {
        "colab": {
          "base_uri": "https://localhost:8080/"
        },
        "id": "HKFOMZZt5rTg",
        "outputId": "501b4c9d-ece6-4da6-dcfc-aecaed5b32e1"
      },
      "execution_count": null,
      "outputs": [
        {
          "output_type": "stream",
          "name": "stdout",
          "text": [
            "Enter the number: 5\n",
            "120\n"
          ]
        }
      ]
    },
    {
      "cell_type": "code",
      "source": [
        "# Test 26\n",
        "\n",
        "i = 0\n",
        "while True:\n",
        "    number = int(input(\"Enter the number: \"))\n",
        "\n",
        "    if number < 0:\n",
        "        print(\"Negative Value\")\n",
        "        break\n",
        "    else:\n",
        "        i += number\n",
        "print(i)"
      ],
      "metadata": {
        "id": "wEhq-mKBTRS8",
        "colab": {
          "base_uri": "https://localhost:8080/"
        },
        "outputId": "f0f0bb6e-7d3c-47e9-944f-1c5505714704"
      },
      "execution_count": null,
      "outputs": [
        {
          "output_type": "stream",
          "name": "stdout",
          "text": [
            "Enter the number: -1\n",
            "Negative Value\n",
            "0\n"
          ]
        }
      ]
    },
    {
      "cell_type": "code",
      "source": [
        "# Test 27\n",
        "\n",
        "numbers = [1, 5, 2, 4, 3, 4, 2]\n",
        "\n",
        "square_numbers = [i ** 2 for i in numbers if i % 2 == 0]\n",
        "\n",
        "unique_numbers = []\n",
        "\n",
        "[unique_numbers.append(i) for i in square_numbers if i not in unique_numbers]\n",
        "\n",
        "sort_unique_numbers = sorted(unique_numbers)\n",
        "\n",
        "print(sort_unique_numbers)"
      ],
      "metadata": {
        "colab": {
          "base_uri": "https://localhost:8080/"
        },
        "id": "q6jQaAan14rR",
        "outputId": "d3ec2e1d-8b2c-4210-b88d-bda23268ffc5"
      },
      "execution_count": null,
      "outputs": [
        {
          "output_type": "stream",
          "name": "stdout",
          "text": [
            "[4, 16]\n"
          ]
        }
      ]
    },
    {
      "cell_type": "code",
      "source": [
        "# Test 28\n",
        "\n",
        "numbers = int(input(\"Enter the number: \"))\n",
        "sum_of_numbers = sum([i for i in range(1, numbers + 1)])\n",
        "print(sum_of_numbers)\n",
        "\n",
        "prime_numbers = [i for i in range(25, 50) if all(i % j != 0 for j in range(2, i))]\n",
        "print(prime_numbers)"
      ],
      "metadata": {
        "id": "jX-1UTWe2teW",
        "colab": {
          "base_uri": "https://localhost:8080/"
        },
        "outputId": "89b47261-84b2-43b4-80df-4ec0cc9024b3"
      },
      "execution_count": 1,
      "outputs": [
        {
          "output_type": "stream",
          "name": "stdout",
          "text": [
            "Enter the number: 5\n",
            "15\n",
            "[29, 31, 37, 41, 43, 47]\n"
          ]
        }
      ]
    }
  ]
}