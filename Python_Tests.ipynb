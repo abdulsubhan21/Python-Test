{
  "nbformat": 4,
  "nbformat_minor": 0,
  "metadata": {
    "colab": {
      "provenance": []
    },
    "kernelspec": {
      "name": "python3",
      "display_name": "Python 3"
    },
    "language_info": {
      "name": "python"
    }
  },
  "cells": [
    {
      "cell_type": "code",
      "execution_count": 2,
      "metadata": {
        "id": "Paz7sw526qxR",
        "outputId": "5f76ad17-157d-493f-a9b1-82a1d4ddc97d",
        "colab": {
          "base_uri": "https://localhost:8080/"
        }
      },
      "outputs": [
        {
          "output_type": "stream",
          "name": "stdout",
          "text": [
            "Enter your first name: Abdul\n",
            "Enter your last name: Subhan\n",
            "Enter your age: 17\n",
            "My name is Abdul Subhan. I am 17 years old.\n",
            "My name is Abdul Subhan. I am 17 years old.\n",
            "<class 'str'>\n",
            "<class 'int'>\n",
            "<class 'float'>\n"
          ]
        }
      ],
      "source": [
        "# Test 1\n",
        "\n",
        "first_name = input(\"Enter your first name: \")\n",
        "last_name = input(\"Enter your last name: \")\n",
        "age = input(\"Enter your age: \")\n",
        "print(f'''My name is {first_name} {last_name}. I am {age} years old.''')\n",
        "print(\"My name is \" + first_name + \" \" + last_name + \". I am \" + age + \" years old.\")\n",
        "\n",
        "var_1 = \"Hello\"\n",
        "var_2 = 50\n",
        "var_3 = 7.89\n",
        "print(type(var_1))\n",
        "print(type(var_2))\n",
        "print(type(var_3))"
      ]
    },
    {
      "cell_type": "code",
      "source": [
        "# Test 2\n",
        "\n",
        "num = int(input(\"Enter your number: \"))\n",
        "\n",
        "num += 10\n",
        "num *= 2\n",
        "num -= 5\n",
        "num /= 3\n",
        "num *= 3.2\n",
        "num //= 1\n",
        "\n",
        "print(f'''The final value of the variable is: {num}''')"
      ],
      "metadata": {
        "colab": {
          "base_uri": "https://localhost:8080/"
        },
        "id": "aKgtVxxO_6dI",
        "outputId": "68937a2f-7e73-421a-8924-224e95ba9dad"
      },
      "execution_count": 3,
      "outputs": [
        {
          "output_type": "stream",
          "name": "stdout",
          "text": [
            "Enter your number: 5\n",
            "The final value of the variable is: 26.0\n"
          ]
        }
      ]
    },
    {
      "cell_type": "code",
      "source": [
        "# Test 3\n",
        "\n",
        "name = input(\"Enter Your Name:\")\n",
        "father_name = input(\"Enter Your Father Name:\")\n",
        "gender = input(\"Enter Your Gender:\")\n",
        "age = int(input(\"Enter Your Age:\"))\n",
        "area_code = input(\"Enter Your Area Code:\")\n",
        "\n",
        "if age >= 18:\n",
        "   print(\"You are eligible for vote\")\n",
        "\n",
        "   if area_code == 432:\n",
        "      print(\"Your voting area is malir\")\n",
        "\n",
        "   else:\n",
        "        print(\"Your voting area is other\")\n",
        "\n",
        "else:\n",
        "     print(\"You are not eligible for vote\")"
      ],
      "metadata": {
        "colab": {
          "base_uri": "https://localhost:8080/"
        },
        "id": "etIgIIh-ACqJ",
        "outputId": "fd09032d-610b-4dd5-a214-fc333ea8bb9f"
      },
      "execution_count": 10,
      "outputs": [
        {
          "output_type": "stream",
          "name": "stdout",
          "text": [
            "Enter Your Name:Abdul Subhan\n",
            "Enter Your Father Name:Saghir Muhammad\n",
            "Enter Your Gender:Male\n",
            "Enter Your Age:17\n",
            "Enter Your Area Code:432\n",
            "You are not eligible for vote\n"
          ]
        }
      ]
    },
    {
      "cell_type": "code",
      "source": [
        "# Test 4\n",
        "\n",
        "password = input(\"Enter Your Password: \")\n",
        "\n",
        "if len(password) < 6:\n",
        "   print(\"Weak Password\")\n",
        "\n",
        "elif len(password) >= 6 and len(password) <= 10:\n",
        "     print(\"Modrate Password\")\n",
        "\n",
        "elif len(password) > 10:\n",
        "     print(\"Strong Password\")\n",
        "\n",
        "elif \" \" in password:\n",
        "   print(\"Invalid Password\")\n",
        "\n",
        "else:\n",
        "     print(\"Correct Password\")"
      ],
      "metadata": {
        "id": "RAFvCLIdoETM",
        "colab": {
          "base_uri": "https://localhost:8080/"
        },
        "outputId": "809ba757-cb0a-4a9c-8e96-3e671f35040f"
      },
      "execution_count": 11,
      "outputs": [
        {
          "output_type": "stream",
          "name": "stdout",
          "text": [
            "Enter Your Password: MASubhan2110\n",
            "Strong Password\n"
          ]
        }
      ]
    },
    {
      "cell_type": "code",
      "source": [
        "# Test 5\n",
        "\n",
        "numbers = [1, 2, 3, 4, 5, 6, 7, 8, 9, 10, 11, 12, 13, 14, 15, 16, 17, 18, 19, 20]\n",
        "\n",
        "Even_numbers = numbers[1::2]\n",
        "odd_numbers = numbers[::2]\n",
        "\n",
        "print(Even_numbers)\n",
        "print(odd_numbers)"
      ],
      "metadata": {
        "colab": {
          "base_uri": "https://localhost:8080/"
        },
        "id": "qV8aLDpyfS2y",
        "outputId": "08bf32f9-30fe-49a2-dbf3-eeb09a11c3e3"
      },
      "execution_count": 13,
      "outputs": [
        {
          "output_type": "stream",
          "name": "stdout",
          "text": [
            "[2, 4, 6, 8, 10, 12, 14, 16, 18, 20]\n",
            "[1, 3, 5, 7, 9, 11, 13, 15, 17, 19]\n"
          ]
        }
      ]
    },
    {
      "cell_type": "code",
      "source": [
        "# Test 6\n",
        "\n",
        "students = {1:{\"name\":\"emma\", \"age\":27, \"roll no.\":12345}, 2:{\"name\":\"mic\", \"age\":22, \"roll no.\":54321}}\n",
        "\n",
        "print(students[1][\"age\"])"
      ],
      "metadata": {
        "colab": {
          "base_uri": "https://localhost:8080/"
        },
        "id": "ODx8K0GBpyI5",
        "outputId": "d9472217-40c9-4bef-8274-076f6e2c2c01"
      },
      "execution_count": 15,
      "outputs": [
        {
          "output_type": "stream",
          "name": "stdout",
          "text": [
            "27\n"
          ]
        }
      ]
    },
    {
      "cell_type": "code",
      "source": [
        "# Test 7\n",
        "\n",
        "for i in range(5):\n",
        "    print(\"* \" * 5)\n",
        "\n",
        "for i in range(5):\n",
        "    print(\" \" * (5 - i) + \"*\" * (i + 1))"
      ],
      "metadata": {
        "id": "N-C5zRYqqbRC",
        "colab": {
          "base_uri": "https://localhost:8080/"
        },
        "outputId": "94c986ce-8b45-4e6c-e782-3ec54ce1e94b"
      },
      "execution_count": 17,
      "outputs": [
        {
          "output_type": "stream",
          "name": "stdout",
          "text": [
            "* * * * * \n",
            "* * * * * \n",
            "* * * * * \n",
            "* * * * * \n",
            "* * * * * \n",
            "     *\n",
            "    **\n",
            "   ***\n",
            "  ****\n",
            " *****\n"
          ]
        }
      ]
    },
    {
      "cell_type": "code",
      "source": [
        "# Test 8\n",
        "\n",
        "i = 0\n",
        "while True:\n",
        "    number = int(input(\"Enter the number: \"))\n",
        "\n",
        "    if number < 0:\n",
        "        print(\"Negative Value\")\n",
        "        break\n",
        "    else:\n",
        "        i += number\n",
        "print(i)"
      ],
      "metadata": {
        "id": "wEhq-mKBTRS8",
        "colab": {
          "base_uri": "https://localhost:8080/"
        },
        "outputId": "26de3917-5f82-403f-963f-dca852aac7e7"
      },
      "execution_count": 19,
      "outputs": [
        {
          "output_type": "stream",
          "name": "stdout",
          "text": [
            "Enter the number: 5\n",
            "Enter the number: 0\n",
            "Enter the number: -1\n",
            "Negative Value\n",
            "5\n"
          ]
        }
      ]
    },
    {
      "cell_type": "code",
      "source": [
        "# Test 9\n",
        "\n",
        "numbers = int(input(\"Enter the number: \"))\n",
        "sum_of_numbers = sum([i for i in range(1, numbers + 1)])\n",
        "print(sum_of_numbers)\n",
        "\n",
        "prime_numbers = [i for i in range(25, 50) if all(i % j != 0 for j in range(2, i))]\n",
        "print(prime_numbers)"
      ],
      "metadata": {
        "id": "jX-1UTWe2teW",
        "colab": {
          "base_uri": "https://localhost:8080/"
        },
        "outputId": "52dc01ad-7ea6-4414-bd80-0507a1b00310"
      },
      "execution_count": 22,
      "outputs": [
        {
          "output_type": "stream",
          "name": "stdout",
          "text": [
            "Enter the number: 5\n",
            "15\n",
            "[29, 31, 37, 41, 43, 47]\n"
          ]
        }
      ]
    },
    {
      "cell_type": "code",
      "source": [
        "# Test 10\n",
        "\n",
        "def factorial(number):\n",
        "  i = 1\n",
        "  while number > 0:\n",
        "    i *= number\n",
        "    number -= 1\n",
        "  return i\n",
        "\n",
        "number = int(input(\"Enter the number: \"))\n",
        "print(factorial(number))"
      ],
      "metadata": {
        "id": "3yYzpsGXbPft",
        "colab": {
          "base_uri": "https://localhost:8080/"
        },
        "outputId": "6c102cda-e406-482f-9410-4d2f63290740"
      },
      "execution_count": 24,
      "outputs": [
        {
          "output_type": "stream",
          "name": "stdout",
          "text": [
            "Enter the number: 5\n",
            "120\n"
          ]
        }
      ]
    }
  ]
}